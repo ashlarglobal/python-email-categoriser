{
 "cells": [
  {
   "cell_type": "code",
   "execution_count": 1,
   "metadata": {},
   "outputs": [],
   "source": [
    "import spacy\n",
    "import nltk\n",
    "import pandas as pd\n",
    "import re\n",
    "import joblib\n",
    "import math\n",
    "import os\n",
    "import string\n",
    "import warnings\n",
    "warnings.filterwarnings(\"ignore\")"
   ]
  },
  {
   "cell_type": "code",
   "execution_count": 2,
   "metadata": {},
   "outputs": [],
   "source": [
    "from nltk.corpus import stopwords\n",
    "from nltk.tokenize import word_tokenize\n",
    "from nltk.stem import WordNetLemmatizer\n",
    "from bs4 import BeautifulSoup"
   ]
  },
  {
   "cell_type": "code",
   "execution_count": 3,
   "metadata": {},
   "outputs": [
    {
     "name": "stderr",
     "output_type": "stream",
     "text": [
      "All model checkpoint layers were used when initializing TFRobertaForSequenceClassification.\n",
      "\n",
      "All the layers of TFRobertaForSequenceClassification were initialized from the model checkpoint at arpanghoshal/EmoRoBERTa.\n",
      "If your task is similar to the task the model of the checkpoint was trained on, you can already use TFRobertaForSequenceClassification for predictions without further training.\n"
     ]
    }
   ],
   "source": [
    "from transformers import pipeline, RobertaTokenizerFast, TFRobertaForSequenceClassification\n",
    "\n",
    "tokenizer = RobertaTokenizerFast.from_pretrained(\"arpanghoshal/EmoRoBERTa\")\n",
    "model = TFRobertaForSequenceClassification.from_pretrained(\"arpanghoshal/EmoRoBERTa\")\n",
    "emotion_pipeline = pipeline('text-classification', model=model, tokenizer=tokenizer, return_all_scores=True)\n"
   ]
  },
  {
   "cell_type": "code",
   "execution_count": 4,
   "metadata": {},
   "outputs": [],
   "source": [
    "# Initializing NLTK libraries\n",
    "stop_words = set(stopwords.words('english'))\n",
    "lemmatizer = WordNetLemmatizer()\n",
    "\n",
    "# Function to remove html links\n",
    "def clean_html(html):\n",
    "    soup = BeautifulSoup(html, \"html.parser\")\n",
    "    for data in soup(['style', 'script', 'code', 'a']):\n",
    "        data.decompose()\n",
    "    return ' '.join(soup.stripped_strings)\n",
    "\n",
    "# Function to clean and lemmatize the string\n",
    "def clean_string(text, stem='Spacy'):\n",
    "    lemmatizer = WordNetLemmatizer()\n",
    "    clean_text = re.sub(r'\\s+', ' ', text)\n",
    "    clean_text = ' '.join([lemmatizer.lemmatize(word) for word in clean_text.split() if word not in stopwords.words('english')])\n",
    "    return clean_text"
   ]
  },
  {
   "cell_type": "code",
   "execution_count": 25,
   "metadata": {},
   "outputs": [],
   "source": [
    "text = '''Dear Staffenberg,\n",
    "\n",
    "I hope this email finds you in good health and high spirits. Today, I want to take a moment to reflect on the beauty of life and share some thoughts that have been resonating with me lately.\n",
    "\n",
    "Life is an intricate tapestry of experiences, emotions, and connections. It is a journey filled with ups and downs, twists and turns, and unexpected surprises. It's easy to get caught up in the daily grind and lose sight of the wonder that surrounds us. However, it is in these moments of reflection that we can truly appreciate the magnificence of life.\n",
    "\n",
    "Think about the simple pleasures that bring you joy: a warm cup of coffee on a chilly morning, the gentle touch of a loved one, or the breathtaking colors of a sunset. These seemingly ordinary moments are what make life extraordinary. By cultivating an attitude of gratitude, we can find beauty and fulfillment in even the smallest things.\n",
    "\n",
    "Life is also about growth and learning. Each experience, whether pleasant or challenging, offers an opportunity for personal development. It is through adversity that we discover our strength and resilience. Embracing change and stepping out of our comfort zones can lead to profound transformations and new horizons. Remember, it's not about the destination but the journey itself.\n",
    "\n",
    "Moreover, life is about connections and relationships. Our interactions with others shape our experiences and contribute to our sense of belonging. Take a moment to cherish the people who have touched your life, be it family, friends, or even strangers who have shown kindness. Nurture these relationships, for they provide support, understanding, and shared moments of laughter and tears.\n",
    "\n",
    "While life can be unpredictable and challenging, it is essential to maintain a sense of hope and optimism. Embrace the power of dreams and aspirations, for they fuel our passions and drive us forward. Celebrate your achievements, no matter how small, and use setbacks as stepping stones to greater success.\n",
    "\n",
    "In conclusion, life is a precious gift, and it is up to us to make the most of it. Let us approach each day with gratitude, curiosity, and an open heart. Embrace the beauty that surrounds you, seek personal growth, nurture relationships, and hold onto hope. Remember, the true essence of life lies not in its length but in the depth of our experiences.\n",
    "\n",
    "May you find joy, fulfillment, and meaning in every step of your journey.\n",
    "\n",
    "Warm regards,\n",
    "Kyle'''"
   ]
  },
  {
   "cell_type": "code",
   "execution_count": 26,
   "metadata": {},
   "outputs": [],
   "source": [
    "text = re.sub(r'[^\\w\\s]', '', text)\n",
    "clean_text = clean_html(text)\n",
    "processed_text = clean_string(clean_text)"
   ]
  },
  {
   "cell_type": "code",
   "execution_count": 31,
   "metadata": {},
   "outputs": [
    {
     "name": "stdout",
     "output_type": "stream",
     "text": [
      "{'admiration': ['good', 'beauty', 'wonder', 'truly', 'appreciate', 'magnificence', 'breathtaking', 'beauty', 'kindness', 'greater', 'precious', 'beauty'], 'amusement': ['laughter'], 'anger': [], 'annoyance': [], 'approval': ['warm'], 'caring': [], 'confusion': [], 'curiosity': ['curiosity'], 'desire': ['want'], 'disappointment': ['lose', 'seemingly'], 'disapproval': [], 'disgust': [], 'embarrassment': ['Embracing'], 'excitement': [], 'fear': ['stranger'], 'gratitude': ['Dear', 'success'], 'grief': [], 'joy': ['pleasure', 'joy', 'coffee', 'gentle', 'pleasant', 'Celebrate', 'joy'], 'love': ['loved'], 'nervousness': [], 'optimism': ['hope', 'hope', 'hope'], 'pride': [], 'realization': [], 'relief': [], 'remorse': [], 'sadness': ['lately'], 'surprise': ['unexpected', 'surprise', 'extraordinary']}\n"
     ]
    }
   ],
   "source": [
    "temp_list = processed_text.split()\n",
    "emotion_lists = {\n",
    "    'admiration': [], 'amusement': [], 'anger': [], 'annoyance': [],\n",
    "    'approval': [], 'caring': [], 'confusion': [], 'curiosity': [],\n",
    "    'desire': [], 'disappointment': [], 'disapproval': [], 'disgust': [],\n",
    "    'embarrassment': [], 'excitement': [], 'fear': [], 'gratitude': [],\n",
    "    'grief': [], 'joy': [], 'love': [], 'nervousness': [], 'optimism': [],\n",
    "    'pride': [], 'realization': [], 'relief': [], 'remorse': [], 'sadness': [],\n",
    "    'surprise': []\n",
    "}\n",
    "\n",
    "for x in temp_list:\n",
    "    results = emotion_pipeline(x)\n",
    "    if results != 'neutral':\n",
    "        for result in results:\n",
    "            top_label = max(result, key=lambda dictionary: dictionary['score'])\n",
    "            label = top_label[\"label\"]\n",
    "            if label in emotion_lists:\n",
    "                emotion_lists[label].append(x)\n",
    "            \n",
    "print(emotion_lists)"
   ]
  },
  {
   "cell_type": "code",
   "execution_count": 38,
   "metadata": {},
   "outputs": [
    {
     "name": "stdout",
     "output_type": "stream",
     "text": [
      "{'admiration': ['good', 'beauty', 'wonder', 'truly', 'appreciate', 'magnificence', 'breathtaking', 'beauty', 'kindness', 'greater', 'precious', 'beauty'], 'amusement': ['laughter'], 'approval': ['warm'], 'curiosity': ['curiosity'], 'desire': ['want'], 'disappointment': ['lose', 'seemingly'], 'embarrassment': ['Embracing'], 'fear': ['stranger'], 'gratitude': ['Dear', 'success'], 'joy': ['pleasure', 'joy', 'coffee', 'gentle', 'pleasant', 'Celebrate', 'joy'], 'love': ['loved'], 'optimism': ['hope', 'hope', 'hope'], 'sadness': ['lately'], 'surprise': ['unexpected', 'surprise', 'extraordinary']}\n"
     ]
    }
   ],
   "source": [
    "res = {key: val for key, val in emotion_lists.items() if val}\n",
    "print(res)\n"
   ]
  },
  {
   "cell_type": "code",
   "execution_count": 40,
   "metadata": {},
   "outputs": [
    {
     "name": "stdout",
     "output_type": "stream",
     "text": [
      "Emotion: admiration\n",
      "Words:\n",
      "good\n",
      "beauty\n",
      "wonder\n",
      "truly\n",
      "appreciate\n",
      "magnificence\n",
      "breathtaking\n",
      "beauty\n",
      "kindness\n",
      "greater\n",
      "precious\n",
      "beauty\n",
      "\n",
      "Emotion: amusement\n",
      "Words:\n",
      "laughter\n",
      "\n",
      "Emotion: approval\n",
      "Words:\n",
      "warm\n",
      "\n",
      "Emotion: curiosity\n",
      "Words:\n",
      "curiosity\n",
      "\n",
      "Emotion: desire\n",
      "Words:\n",
      "want\n",
      "\n",
      "Emotion: disappointment\n",
      "Words:\n",
      "lose\n",
      "seemingly\n",
      "\n",
      "Emotion: embarrassment\n",
      "Words:\n",
      "Embracing\n",
      "\n",
      "Emotion: fear\n",
      "Words:\n",
      "stranger\n",
      "\n",
      "Emotion: gratitude\n",
      "Words:\n",
      "Dear\n",
      "success\n",
      "\n",
      "Emotion: joy\n",
      "Words:\n",
      "pleasure\n",
      "joy\n",
      "coffee\n",
      "gentle\n",
      "pleasant\n",
      "Celebrate\n",
      "joy\n",
      "\n",
      "Emotion: love\n",
      "Words:\n",
      "loved\n",
      "\n",
      "Emotion: optimism\n",
      "Words:\n",
      "hope\n",
      "hope\n",
      "hope\n",
      "\n",
      "Emotion: sadness\n",
      "Words:\n",
      "lately\n",
      "\n",
      "Emotion: surprise\n",
      "Words:\n",
      "unexpected\n",
      "surprise\n",
      "extraordinary\n",
      "\n"
     ]
    }
   ],
   "source": [
    "for emotion, words in res.items():\n",
    "    print(f\"Emotion: {emotion}\")\n",
    "    print(\"Words:\")\n",
    "    for word in words:\n",
    "        print(word)\n",
    "    print()"
   ]
  }
 ],
 "metadata": {
  "kernelspec": {
   "display_name": "Python 3",
   "language": "python",
   "name": "python3"
  },
  "language_info": {
   "codemirror_mode": {
    "name": "ipython",
    "version": 3
   },
   "file_extension": ".py",
   "mimetype": "text/x-python",
   "name": "python",
   "nbconvert_exporter": "python",
   "pygments_lexer": "ipython3",
   "version": "3.11.3"
  },
  "orig_nbformat": 4
 },
 "nbformat": 4,
 "nbformat_minor": 2
}
